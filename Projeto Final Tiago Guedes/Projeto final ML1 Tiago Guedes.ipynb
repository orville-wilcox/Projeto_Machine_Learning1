{
 "cells": [
  {
   "cell_type": "markdown",
   "id": "6b511e39",
   "metadata": {},
   "source": [
    "## Projeto final do módulo de Machine Learning 1\n",
    "### Análise exploratória e modelos de previsão de salários de profissionais de ciências de dados\n",
    "### Por: Tiago Guedes\n",
    "O seguinte trabalho propõe uma análise exploratória e treino de um modelo de machine learning capaz de estimar o salário de um profissional na área com base nas informações providas.\n",
    "\n",
    "Dataset utilizado: https://www.kaggle.com/datasets/arnabchaki/data-science-salaries-2023/code\n",
    "\n",
    "Dicionario do dataset:\n",
    "- work_year: The year the salary was paid.\n",
    "- experience_level: The experience level in the job during the year\n",
    "- employment_type: The type of employment for the role\n",
    "- job_title: The role worked in during the year.\n",
    "- salary: The total gross salary amount paid.\n",
    "- salary_currency: The currency of the salary paid as an ISO 4217 currency code.\n",
    "- salaryinusd: The salary in USD\n",
    "- employee_residence: Employee's primary country of residence in during the work year as an ISO 3166 country code.\n",
    "- remote_ratio: The overall amount of work done remotely\n",
    "- company_location: The country of the employer's main office or contracting branch\n",
    "- company_size: The median number of people that worked for the company during the year"
   ]
  },
  {
   "cell_type": "code",
   "execution_count": 47,
   "id": "245d43c3",
   "metadata": {},
   "outputs": [],
   "source": [
    "#imports necessários\n",
    "import pandas as pd\n",
    "from sklearn.model_selection import train_test_split\n",
    "from sklearn.compose import ColumnTransformer\n",
    "from sklearn.pipeline import Pipeline\n",
    "from sklearn.preprocessing import OrdinalEncoder, OneHotEncoder\n",
    "from sklearn.ensemble import RandomForestRegressor\n",
    "from sklearn.linear_model import LinearRegression, Lasso, Ridge\n",
    "from sklearn.metrics import mean_squared_error, mean_absolute_error, r2_score\n",
    "from sklearn.model_selection import GridSearchCV\n",
    "import seaborn as sns\n",
    "import matplotlib.pyplot as plt\n",
    "import pickle"
   ]
  },
  {
   "cell_type": "code",
   "execution_count": 2,
   "id": "10780b42",
   "metadata": {},
   "outputs": [],
   "source": [
    "salarios = pd.read_csv('ds_salaries.csv')"
   ]
  },
  {
   "cell_type": "code",
   "execution_count": 3,
   "id": "fb9f64f5",
   "metadata": {},
   "outputs": [
    {
     "data": {
      "text/html": [
       "<div>\n",
       "<style scoped>\n",
       "    .dataframe tbody tr th:only-of-type {\n",
       "        vertical-align: middle;\n",
       "    }\n",
       "\n",
       "    .dataframe tbody tr th {\n",
       "        vertical-align: top;\n",
       "    }\n",
       "\n",
       "    .dataframe thead th {\n",
       "        text-align: right;\n",
       "    }\n",
       "</style>\n",
       "<table border=\"1\" class=\"dataframe\">\n",
       "  <thead>\n",
       "    <tr style=\"text-align: right;\">\n",
       "      <th></th>\n",
       "      <th>work_year</th>\n",
       "      <th>experience_level</th>\n",
       "      <th>employment_type</th>\n",
       "      <th>job_title</th>\n",
       "      <th>salary</th>\n",
       "      <th>salary_currency</th>\n",
       "      <th>salary_in_usd</th>\n",
       "      <th>employee_residence</th>\n",
       "      <th>remote_ratio</th>\n",
       "      <th>company_location</th>\n",
       "      <th>company_size</th>\n",
       "    </tr>\n",
       "  </thead>\n",
       "  <tbody>\n",
       "    <tr>\n",
       "      <th>0</th>\n",
       "      <td>2023</td>\n",
       "      <td>SE</td>\n",
       "      <td>FT</td>\n",
       "      <td>Principal Data Scientist</td>\n",
       "      <td>80000</td>\n",
       "      <td>EUR</td>\n",
       "      <td>85847</td>\n",
       "      <td>ES</td>\n",
       "      <td>100</td>\n",
       "      <td>ES</td>\n",
       "      <td>L</td>\n",
       "    </tr>\n",
       "    <tr>\n",
       "      <th>1</th>\n",
       "      <td>2023</td>\n",
       "      <td>MI</td>\n",
       "      <td>CT</td>\n",
       "      <td>ML Engineer</td>\n",
       "      <td>30000</td>\n",
       "      <td>USD</td>\n",
       "      <td>30000</td>\n",
       "      <td>US</td>\n",
       "      <td>100</td>\n",
       "      <td>US</td>\n",
       "      <td>S</td>\n",
       "    </tr>\n",
       "    <tr>\n",
       "      <th>2</th>\n",
       "      <td>2023</td>\n",
       "      <td>MI</td>\n",
       "      <td>CT</td>\n",
       "      <td>ML Engineer</td>\n",
       "      <td>25500</td>\n",
       "      <td>USD</td>\n",
       "      <td>25500</td>\n",
       "      <td>US</td>\n",
       "      <td>100</td>\n",
       "      <td>US</td>\n",
       "      <td>S</td>\n",
       "    </tr>\n",
       "  </tbody>\n",
       "</table>\n",
       "</div>"
      ],
      "text/plain": [
       "   work_year experience_level employment_type                 job_title  \\\n",
       "0       2023               SE              FT  Principal Data Scientist   \n",
       "1       2023               MI              CT               ML Engineer   \n",
       "2       2023               MI              CT               ML Engineer   \n",
       "\n",
       "   salary salary_currency  salary_in_usd employee_residence  remote_ratio  \\\n",
       "0   80000             EUR          85847                 ES           100   \n",
       "1   30000             USD          30000                 US           100   \n",
       "2   25500             USD          25500                 US           100   \n",
       "\n",
       "  company_location company_size  \n",
       "0               ES            L  \n",
       "1               US            S  \n",
       "2               US            S  "
      ]
     },
     "execution_count": 3,
     "metadata": {},
     "output_type": "execute_result"
    }
   ],
   "source": [
    "salarios.head(3)"
   ]
  },
  {
   "cell_type": "code",
   "execution_count": 4,
   "id": "b9076841",
   "metadata": {},
   "outputs": [
    {
     "data": {
      "text/plain": [
       "work_year             0\n",
       "experience_level      0\n",
       "employment_type       0\n",
       "job_title             0\n",
       "salary                0\n",
       "salary_currency       0\n",
       "salary_in_usd         0\n",
       "employee_residence    0\n",
       "remote_ratio          0\n",
       "company_location      0\n",
       "company_size          0\n",
       "dtype: int64"
      ]
     },
     "execution_count": 4,
     "metadata": {},
     "output_type": "execute_result"
    }
   ],
   "source": [
    "salarios.isna().sum()"
   ]
  },
  {
   "cell_type": "code",
   "execution_count": 5,
   "id": "0cee89b6",
   "metadata": {},
   "outputs": [
    {
     "data": {
      "text/html": [
       "<div>\n",
       "<style scoped>\n",
       "    .dataframe tbody tr th:only-of-type {\n",
       "        vertical-align: middle;\n",
       "    }\n",
       "\n",
       "    .dataframe tbody tr th {\n",
       "        vertical-align: top;\n",
       "    }\n",
       "\n",
       "    .dataframe thead th {\n",
       "        text-align: right;\n",
       "    }\n",
       "</style>\n",
       "<table border=\"1\" class=\"dataframe\">\n",
       "  <thead>\n",
       "    <tr style=\"text-align: right;\">\n",
       "      <th></th>\n",
       "      <th>work_year</th>\n",
       "      <th>salary</th>\n",
       "      <th>salary_in_usd</th>\n",
       "      <th>remote_ratio</th>\n",
       "    </tr>\n",
       "  </thead>\n",
       "  <tbody>\n",
       "    <tr>\n",
       "      <th>count</th>\n",
       "      <td>3755.000000</td>\n",
       "      <td>3.755000e+03</td>\n",
       "      <td>3755.000000</td>\n",
       "      <td>3755.000000</td>\n",
       "    </tr>\n",
       "    <tr>\n",
       "      <th>mean</th>\n",
       "      <td>2022.373635</td>\n",
       "      <td>1.906956e+05</td>\n",
       "      <td>137570.389880</td>\n",
       "      <td>46.271638</td>\n",
       "    </tr>\n",
       "    <tr>\n",
       "      <th>std</th>\n",
       "      <td>0.691448</td>\n",
       "      <td>6.716765e+05</td>\n",
       "      <td>63055.625278</td>\n",
       "      <td>48.589050</td>\n",
       "    </tr>\n",
       "    <tr>\n",
       "      <th>min</th>\n",
       "      <td>2020.000000</td>\n",
       "      <td>6.000000e+03</td>\n",
       "      <td>5132.000000</td>\n",
       "      <td>0.000000</td>\n",
       "    </tr>\n",
       "    <tr>\n",
       "      <th>25%</th>\n",
       "      <td>2022.000000</td>\n",
       "      <td>1.000000e+05</td>\n",
       "      <td>95000.000000</td>\n",
       "      <td>0.000000</td>\n",
       "    </tr>\n",
       "    <tr>\n",
       "      <th>50%</th>\n",
       "      <td>2022.000000</td>\n",
       "      <td>1.380000e+05</td>\n",
       "      <td>135000.000000</td>\n",
       "      <td>0.000000</td>\n",
       "    </tr>\n",
       "    <tr>\n",
       "      <th>75%</th>\n",
       "      <td>2023.000000</td>\n",
       "      <td>1.800000e+05</td>\n",
       "      <td>175000.000000</td>\n",
       "      <td>100.000000</td>\n",
       "    </tr>\n",
       "    <tr>\n",
       "      <th>max</th>\n",
       "      <td>2023.000000</td>\n",
       "      <td>3.040000e+07</td>\n",
       "      <td>450000.000000</td>\n",
       "      <td>100.000000</td>\n",
       "    </tr>\n",
       "  </tbody>\n",
       "</table>\n",
       "</div>"
      ],
      "text/plain": [
       "         work_year        salary  salary_in_usd  remote_ratio\n",
       "count  3755.000000  3.755000e+03    3755.000000   3755.000000\n",
       "mean   2022.373635  1.906956e+05  137570.389880     46.271638\n",
       "std       0.691448  6.716765e+05   63055.625278     48.589050\n",
       "min    2020.000000  6.000000e+03    5132.000000      0.000000\n",
       "25%    2022.000000  1.000000e+05   95000.000000      0.000000\n",
       "50%    2022.000000  1.380000e+05  135000.000000      0.000000\n",
       "75%    2023.000000  1.800000e+05  175000.000000    100.000000\n",
       "max    2023.000000  3.040000e+07  450000.000000    100.000000"
      ]
     },
     "execution_count": 5,
     "metadata": {},
     "output_type": "execute_result"
    }
   ],
   "source": [
    "salarios.describe()"
   ]
  },
  {
   "cell_type": "code",
   "execution_count": 6,
   "id": "e2fbe0ad",
   "metadata": {},
   "outputs": [
    {
     "name": "stdout",
     "output_type": "stream",
     "text": [
      "<class 'pandas.core.frame.DataFrame'>\n",
      "RangeIndex: 3755 entries, 0 to 3754\n",
      "Data columns (total 11 columns):\n",
      " #   Column              Non-Null Count  Dtype \n",
      "---  ------              --------------  ----- \n",
      " 0   work_year           3755 non-null   int64 \n",
      " 1   experience_level    3755 non-null   object\n",
      " 2   employment_type     3755 non-null   object\n",
      " 3   job_title           3755 non-null   object\n",
      " 4   salary              3755 non-null   int64 \n",
      " 5   salary_currency     3755 non-null   object\n",
      " 6   salary_in_usd       3755 non-null   int64 \n",
      " 7   employee_residence  3755 non-null   object\n",
      " 8   remote_ratio        3755 non-null   int64 \n",
      " 9   company_location    3755 non-null   object\n",
      " 10  company_size        3755 non-null   object\n",
      "dtypes: int64(4), object(7)\n",
      "memory usage: 322.8+ KB\n"
     ]
    },
    {
     "data": {
      "text/plain": [
       "(3755, 11)"
      ]
     },
     "execution_count": 6,
     "metadata": {},
     "output_type": "execute_result"
    }
   ],
   "source": [
    "salarios.info()\n",
    "salarios.shape"
   ]
  },
  {
   "cell_type": "markdown",
   "id": "2967cc88",
   "metadata": {},
   "source": [
    "Descartamos as colunas salary e salary_currency, visto que somente usaremos a coluna salary_in_usd afim de evitar data leakage"
   ]
  },
  {
   "cell_type": "code",
   "execution_count": 7,
   "id": "ed3fa9da",
   "metadata": {},
   "outputs": [
    {
     "data": {
      "text/plain": [
       "(3755, 7)"
      ]
     },
     "execution_count": 7,
     "metadata": {},
     "output_type": "execute_result"
    }
   ],
   "source": [
    "salarios = salarios.drop(['salary','salary_currency','company_location', 'employee_residence'], axis=1)\n",
    "salarios.shape"
   ]
  },
  {
   "cell_type": "markdown",
   "id": "5a8ad38a",
   "metadata": {},
   "source": [
    "## Vamos checar como se distribuem algumas de nossas informações categóricas:"
   ]
  },
  {
   "cell_type": "markdown",
   "id": "45a77a6c",
   "metadata": {},
   "source": [
    "### Tipo de contrato:"
   ]
  },
  {
   "cell_type": "code",
   "execution_count": 8,
   "id": "0fa1b0ca",
   "metadata": {},
   "outputs": [
    {
     "data": {
      "text/plain": [
       "FT    0.990146\n",
       "PT    0.004527\n",
       "CT    0.002663\n",
       "FL    0.002663\n",
       "Name: employment_type, dtype: float64"
      ]
     },
     "execution_count": 8,
     "metadata": {},
     "output_type": "execute_result"
    }
   ],
   "source": [
    "salarios['employment_type'].value_counts(normalize='True')\n",
    "#Vemos que mais de 99% da base é composta de contratos \"Full time\""
   ]
  },
  {
   "cell_type": "markdown",
   "id": "5d34da43",
   "metadata": {},
   "source": [
    "### Cargos"
   ]
  },
  {
   "cell_type": "code",
   "execution_count": 9,
   "id": "d9cdc90c",
   "metadata": {},
   "outputs": [
    {
     "name": "stdout",
     "output_type": "stream",
     "text": [
      "Existem 93 cargos distintos nomeados na base.\n"
     ]
    },
    {
     "data": {
      "text/plain": [
       "Data Engineer                          1040\n",
       "Data Scientist                          840\n",
       "Data Analyst                            612\n",
       "Machine Learning Engineer               289\n",
       "Analytics Engineer                      103\n",
       "                                       ... \n",
       "Principal Machine Learning Engineer       1\n",
       "Azure Data Engineer                       1\n",
       "Manager Data Management                   1\n",
       "Marketing Data Engineer                   1\n",
       "Finance Data Analyst                      1\n",
       "Name: job_title, Length: 93, dtype: int64"
      ]
     },
     "execution_count": 9,
     "metadata": {},
     "output_type": "execute_result"
    }
   ],
   "source": [
    "#Quantos cargos existem na base e como estão distribuidos\n",
    "numero_de_cargos = len(salarios['job_title'].unique())\n",
    "print(f'Existem {numero_de_cargos} cargos distintos nomeados na base.')\n",
    "salarios['job_title'].value_counts()"
   ]
  },
  {
   "cell_type": "markdown",
   "id": "1164ffd4",
   "metadata": {},
   "source": [
    "Como existem muitos cargos distintos, e isso tornará o trabalho de encoding dessa variável muito árduo iremos descartar os cargos que contem poucos valores, o critério usado é que serão descartados os cargos menos populados até que ainda conservemos pelo menos 90% das linhas da base:"
   ]
  },
  {
   "cell_type": "code",
   "execution_count": 10,
   "id": "66190f76",
   "metadata": {},
   "outputs": [
    {
     "name": "stdout",
     "output_type": "stream",
     "text": [
      "Usaremos somente os 17 cargos mais populados na base:\n",
      "Data Engineer\n",
      "Data Scientist\n",
      "Data Analyst\n",
      "Machine Learning Engineer\n",
      "Analytics Engineer\n",
      "Data Architect\n",
      "Research Scientist\n",
      "Data Science Manager\n",
      "Applied Scientist\n",
      "Research Engineer\n",
      "ML Engineer\n",
      "Data Manager\n",
      "Machine Learning Scientist\n",
      "Data Science Consultant\n",
      "Data Analytics Manager\n",
      "Computer Vision Engineer\n",
      "AI Scientist\n"
     ]
    }
   ],
   "source": [
    "i=0\n",
    "while salarios['job_title'].value_counts().nlargest(i).sum()/salarios.shape[0]<0.9:\n",
    "    i+=1\n",
    "print(f'Usaremos somente os {i} cargos mais populados na base:')\n",
    "cargos_usados = salarios['job_title'].value_counts().nlargest(i).index.tolist()\n",
    "for cargo in cargos_usados:\n",
    "    print(cargo)"
   ]
  },
  {
   "cell_type": "code",
   "execution_count": 11,
   "id": "440e346c",
   "metadata": {},
   "outputs": [
    {
     "name": "stdout",
     "output_type": "stream",
     "text": [
      "Foram conservadas 90.25% das linhas da base original\n",
      "Existem agora 17 cargos distintos na base.\n"
     ]
    }
   ],
   "source": [
    "salarios_filtrado = salarios[salarios['job_title'].isin(cargos_usados)].copy()\n",
    "print(f'Foram conservadas {round(salarios_filtrado.shape[0]/salarios.shape[0]*100,2)}% das linhas da base original')\n",
    "numero_cargos_filtrados = len(salarios_filtrado['job_title'].unique())\n",
    "print(f'Existem agora {numero_cargos_filtrados} cargos distintos na base.')"
   ]
  },
  {
   "cell_type": "markdown",
   "id": "6347c115",
   "metadata": {},
   "source": [
    "### Nível de experiência"
   ]
  },
  {
   "cell_type": "code",
   "execution_count": 12,
   "id": "184a6efc",
   "metadata": {},
   "outputs": [
    {
     "data": {
      "text/plain": [
       "SE    0.692240\n",
       "MI    0.205370\n",
       "EN    0.076424\n",
       "EX    0.025966\n",
       "Name: experience_level, dtype: float64"
      ]
     },
     "execution_count": 12,
     "metadata": {},
     "output_type": "execute_result"
    }
   ],
   "source": [
    "salarios_filtrado['experience_level'].value_counts(normalize='True')"
   ]
  },
  {
   "cell_type": "markdown",
   "id": "ca3b9c3f",
   "metadata": {},
   "source": [
    "Lembrando que:\n",
    "- SE : Senior\n",
    "- EN : Entry level\n",
    "- EX : Executive level\n",
    "- MI : Mid/Intermediate level"
   ]
  },
  {
   "cell_type": "markdown",
   "id": "ed2e5429",
   "metadata": {},
   "source": [
    "## Vamos conferir como a média salarial se distribui ao longo de algumas dessas categorias\n",
    "### Nível de experiência"
   ]
  },
  {
   "cell_type": "code",
   "execution_count": 13,
   "id": "6a98f2f2",
   "metadata": {},
   "outputs": [
    {
     "data": {
      "text/html": [
       "<div>\n",
       "<style scoped>\n",
       "    .dataframe tbody tr th:only-of-type {\n",
       "        vertical-align: middle;\n",
       "    }\n",
       "\n",
       "    .dataframe tbody tr th {\n",
       "        vertical-align: top;\n",
       "    }\n",
       "\n",
       "    .dataframe thead th {\n",
       "        text-align: right;\n",
       "    }\n",
       "</style>\n",
       "<table border=\"1\" class=\"dataframe\">\n",
       "  <thead>\n",
       "    <tr style=\"text-align: right;\">\n",
       "      <th></th>\n",
       "      <th>count</th>\n",
       "      <th>mean</th>\n",
       "      <th>std</th>\n",
       "      <th>min</th>\n",
       "      <th>25%</th>\n",
       "      <th>50%</th>\n",
       "      <th>75%</th>\n",
       "      <th>max</th>\n",
       "    </tr>\n",
       "    <tr>\n",
       "      <th>experience_level</th>\n",
       "      <th></th>\n",
       "      <th></th>\n",
       "      <th></th>\n",
       "      <th></th>\n",
       "      <th></th>\n",
       "      <th></th>\n",
       "      <th></th>\n",
       "      <th></th>\n",
       "    </tr>\n",
       "  </thead>\n",
       "  <tbody>\n",
       "    <tr>\n",
       "      <th>EN</th>\n",
       "      <td>259.0</td>\n",
       "      <td>81834.671815</td>\n",
       "      <td>50559.195475</td>\n",
       "      <td>5707.0</td>\n",
       "      <td>47000.00</td>\n",
       "      <td>75000.0</td>\n",
       "      <td>120000.0</td>\n",
       "      <td>250000.0</td>\n",
       "    </tr>\n",
       "    <tr>\n",
       "      <th>EX</th>\n",
       "      <td>88.0</td>\n",
       "      <td>192623.738636</td>\n",
       "      <td>62689.588100</td>\n",
       "      <td>69741.0</td>\n",
       "      <td>145000.00</td>\n",
       "      <td>198100.0</td>\n",
       "      <td>236750.0</td>\n",
       "      <td>324000.0</td>\n",
       "    </tr>\n",
       "    <tr>\n",
       "      <th>MI</th>\n",
       "      <td>696.0</td>\n",
       "      <td>107118.127874</td>\n",
       "      <td>53327.343821</td>\n",
       "      <td>5679.0</td>\n",
       "      <td>70104.25</td>\n",
       "      <td>100000.0</td>\n",
       "      <td>140000.0</td>\n",
       "      <td>450000.0</td>\n",
       "    </tr>\n",
       "    <tr>\n",
       "      <th>SE</th>\n",
       "      <td>2346.0</td>\n",
       "      <td>154025.265558</td>\n",
       "      <td>55668.766957</td>\n",
       "      <td>15806.0</td>\n",
       "      <td>119000.00</td>\n",
       "      <td>147900.0</td>\n",
       "      <td>185900.0</td>\n",
       "      <td>423834.0</td>\n",
       "    </tr>\n",
       "  </tbody>\n",
       "</table>\n",
       "</div>"
      ],
      "text/plain": [
       "                   count           mean           std      min        25%  \\\n",
       "experience_level                                                            \n",
       "EN                 259.0   81834.671815  50559.195475   5707.0   47000.00   \n",
       "EX                  88.0  192623.738636  62689.588100  69741.0  145000.00   \n",
       "MI                 696.0  107118.127874  53327.343821   5679.0   70104.25   \n",
       "SE                2346.0  154025.265558  55668.766957  15806.0  119000.00   \n",
       "\n",
       "                       50%       75%       max  \n",
       "experience_level                                \n",
       "EN                 75000.0  120000.0  250000.0  \n",
       "EX                198100.0  236750.0  324000.0  \n",
       "MI                100000.0  140000.0  450000.0  \n",
       "SE                147900.0  185900.0  423834.0  "
      ]
     },
     "execution_count": 13,
     "metadata": {},
     "output_type": "execute_result"
    }
   ],
   "source": [
    "salarios_filtrado.groupby('experience_level')['salary_in_usd'].describe()"
   ]
  },
  {
   "cell_type": "code",
   "execution_count": 14,
   "id": "5436e322",
   "metadata": {},
   "outputs": [
    {
     "data": {
      "image/png": "[encoded data removed]",
      "text/plain": [
       "<Figure size 720x576 with 4 Axes>"
      ]
     },
     "metadata": {
      "needs_background": "light"
     },
     "output_type": "display_data"
    }
   ],
   "source": [
    "fig, axes = plt.subplots(2, 2, figsize=(10, 8))\n",
    "\n",
    "sns.histplot(ax=axes[0, 0], data=salarios_filtrado[salarios_filtrado['experience_level']=='EN'], x=\"salary_in_usd\", bins=30)\n",
    "sns.histplot(ax=axes[0, 1], data=salarios_filtrado[salarios_filtrado['experience_level']=='MI'], x=\"salary_in_usd\", bins=30)\n",
    "sns.histplot(ax=axes[1, 0], data=salarios_filtrado[salarios_filtrado['experience_level']=='SE'], x=\"salary_in_usd\", bins=30)\n",
    "sns.histplot(ax=axes[1, 1], data=salarios_filtrado[salarios_filtrado['experience_level']=='EX'], x=\"salary_in_usd\", bins=30)\n",
    "\n",
    "axes[0, 0].set_title(\"Entry Level\")\n",
    "axes[0, 1].set_title(\"Mid Level\")\n",
    "axes[1, 0].set_title(\"Senior Level\")\n",
    "axes[1, 1].set_title(\"Executive Level\")\n",
    "\n",
    "plt.tight_layout()\n",
    "\n",
    "plt.show()"
   ]
  },
  {
   "cell_type": "markdown",
   "id": "f113fcf0",
   "metadata": {},
   "source": [
    "### Cargo"
   ]
  },
  {
   "cell_type": "code",
   "execution_count": 15,
   "id": "8495f04a",
   "metadata": {},
   "outputs": [
    {
     "data": {
      "image/png": "[encoded data removed]",
      "text/plain": [
       "<Figure size 720x432 with 1 Axes>"
      ]
     },
     "metadata": {
      "needs_background": "light"
     },
     "output_type": "display_data"
    }
   ],
   "source": [
    "salarios_medios = salarios_filtrado.groupby('job_title')['salary_in_usd'].mean().sort_values(ascending=False)\n",
    "plt.figure(figsize=(10, 6))\n",
    "sns.barplot(y=salarios_medios.index, x=salarios_medios.values)\n",
    "\n",
    "plt.xlabel('Salário Médio')\n",
    "plt.ylabel('Cargo')\n",
    "plt.title('Salário médio por cargo avaliado')\n",
    "\n",
    "plt.show()"
   ]
  },
  {
   "cell_type": "code",
   "execution_count": null,
   "id": "62f1e5ec",
   "metadata": {},
   "outputs": [],
   "source": []
  },
  {
   "cell_type": "code",
   "execution_count": null,
   "id": "1f89a46a",
   "metadata": {},
   "outputs": [],
   "source": []
  },
  {
   "cell_type": "code",
   "execution_count": null,
   "id": "7c9ea112",
   "metadata": {},
   "outputs": [],
   "source": []
  },
  {
   "cell_type": "markdown",
   "id": "edce231f",
   "metadata": {},
   "source": [
    "### Preparando para treino e teste de modelo\n",
    "Precisamos definir quem serão nossos features e target.\n",
    "O nosso target será o salário em dólares, para tal iremos nos livrar das colunas salary e salary_currency, conservando apenas a informação do salário em dólares, para evitar data leakage."
   ]
  },
  {
   "cell_type": "code",
   "execution_count": 16,
   "id": "c70cb930",
   "metadata": {},
   "outputs": [
    {
     "data": {
      "text/plain": [
       "Index(['work_year', 'experience_level', 'employment_type', 'job_title',\n",
       "       'remote_ratio', 'company_size'],\n",
       "      dtype='object')"
      ]
     },
     "execution_count": 16,
     "metadata": {},
     "output_type": "execute_result"
    }
   ],
   "source": [
    "X = salarios_filtrado.drop('salary_in_usd', axis=1)\n",
    "y = salarios_filtrado['salary_in_usd']\n",
    "X.columns"
   ]
  },
  {
   "cell_type": "markdown",
   "id": "f28a42ea",
   "metadata": {},
   "source": [
    "Temos diversas colunas categoricas, como o cargo e o nível de experiência, precisamos decidir o tipo de encoding a ser usado em cada coluna:"
   ]
  },
  {
   "cell_type": "code",
   "execution_count": 48,
   "id": "409184e4",
   "metadata": {},
   "outputs": [
    {
     "name": "stdout",
     "output_type": "stream",
     "text": [
      "Para o modelo de regressão linear:\n",
      "Mean Squared Error: 3154054822.1314044\n",
      "Mean Absolute Error: 43064.59124701042\n",
      "R2 Score: 0.22261119866219714\n"
     ]
    }
   ],
   "source": [
    "X_train, X_test, y_train, y_test = train_test_split(X, y, test_size=0.2, random_state=42)\n",
    "\n",
    "# Colunas categoricas\n",
    "Ordinal_cols = ['experience_level','employment_type']\n",
    "OH_cols = ['job_title']\n",
    "\n",
    "categoricas_preprocessor = ColumnTransformer(\n",
    "    transformers=[\n",
    "        ('ordinal', OrdinalEncoder(), Ordinal_cols), \n",
    "        ('onehot', OneHotEncoder(), OH_cols)\n",
    "    ])\n",
    "\n",
    "# Pipeline\n",
    "pipeline = Pipeline([\n",
    "    ('preprocessor', categoricas_preprocessor),\n",
    "    ('regressor', LinearRegression()) \n",
    "])\n",
    "\n",
    "# Fit\n",
    "pipeline.fit(X_train, y_train)\n",
    "\n",
    "# Predições\n",
    "y_pred = pipeline.predict(X_test)\n",
    "\n",
    "# Avaliação do modelo\n",
    "mse = mean_squared_error(y_test, y_pred)\n",
    "mae = mean_absolute_error(y_test,y_pred)\n",
    "r2 = r2_score(y_test,y_pred)\n",
    "print('Para o modelo de regressão linear:')\n",
    "print(f\"Mean Squared Error: {mse}\")\n",
    "print(f\"Mean Absolute Error: {mae}\")\n",
    "print(f\"R2 Score: {r2}\")"
   ]
  },
  {
   "cell_type": "markdown",
   "id": "6aa08f45",
   "metadata": {},
   "source": [
    "Testando o mesmo procedimento com regularizações Lasso e Ridge:"
   ]
  },
  {
   "cell_type": "code",
   "execution_count": 49,
   "id": "92c5d9c6",
   "metadata": {},
   "outputs": [
    {
     "name": "stdout",
     "output_type": "stream",
     "text": [
      "Para o modelo de Regularização Lasso:\n",
      "Mean Squared Error: 3154273651.472003\n",
      "Mean Absolute Error: 43068.09105707641\n",
      "0.22255726317648783\n"
     ]
    },
    {
     "name": "stderr",
     "output_type": "stream",
     "text": [
      "C:\\Users\\Tiago\\anaconda3\\lib\\site-packages\\sklearn\\linear_model\\_coordinate_descent.py:592: ConvergenceWarning: Objective did not converge. You might want to increase the number of iterations. Duality gap: 265265744921.1631, tolerance: 982678419.1178156\n",
      "  model = cd_fast.sparse_enet_coordinate_descent(\n"
     ]
    }
   ],
   "source": [
    "# Pipeline\n",
    "pipeline_Lasso = Pipeline([\n",
    "    ('preprocessor', categoricas_preprocessor),\n",
    "    ('regressor', Lasso()) \n",
    "])\n",
    "\n",
    "# Fit\n",
    "pipeline_Lasso.fit(X_train, y_train)\n",
    "\n",
    "# Predições\n",
    "y_pred_Lasso = pipeline_Lasso.predict(X_test)\n",
    "\n",
    "# Avaliação do modelo\n",
    "mse_Lasso = mean_squared_error(y_test, y_pred_Lasso)\n",
    "mae_Lasso = mean_absolute_error(y_test,y_pred_Lasso)\n",
    "r2_Lasso = r2_score(y_test,y_pred_Lasso)\n",
    "print('Para o modelo de Regularização Lasso:')\n",
    "print(f\"Mean Squared Error: {mse_Lasso}\")\n",
    "print(f\"Mean Absolute Error: {mae_Lasso}\")\n",
    "print(r2_Lasso)"
   ]
  },
  {
   "cell_type": "code",
   "execution_count": 50,
   "id": "ebbe8d6c",
   "metadata": {},
   "outputs": [
    {
     "name": "stdout",
     "output_type": "stream",
     "text": [
      "Para a Regularização Ridge:\n",
      "Mean Squared Error: 3155251852.5016146\n",
      "Mean Absolute Error: 43086.323183947825\n"
     ]
    },
    {
     "data": {
      "text/plain": [
       "0.2223161632055738"
      ]
     },
     "execution_count": 50,
     "metadata": {},
     "output_type": "execute_result"
    }
   ],
   "source": [
    "# Pipeline\n",
    "pipeline_Ridge = Pipeline([\n",
    "    ('preprocessor', categoricas_preprocessor),\n",
    "    ('regressor', Ridge()) \n",
    "])\n",
    "\n",
    "# Fit\n",
    "pipeline_Ridge.fit(X_train, y_train)\n",
    "\n",
    "# Predições\n",
    "y_pred_Ridge = pipeline_Ridge.predict(X_test)\n",
    "\n",
    "# Avaliação do modelo\n",
    "mse_Ridge = mean_squared_error(y_test, y_pred_Ridge)\n",
    "mae_Ridge = mean_absolute_error(y_test,y_pred_Ridge)\n",
    "r2_Ridge = r2_score(y_test,y_pred_Ridge)\n",
    "print('Para a Regularização Ridge:')\n",
    "print(f\"Mean Squared Error: {mse_Ridge}\")\n",
    "print(f\"Mean Absolute Error: {mae_Ridge}\")\n",
    "r2_Ridge"
   ]
  },
  {
   "cell_type": "code",
   "execution_count": 51,
   "id": "69b0d81d",
   "metadata": {},
   "outputs": [
    {
     "name": "stdout",
     "output_type": "stream",
     "text": [
      "Para o modelo Random Forest Regressor:\n",
      "Mean Squared Error: 2813696301.5494485\n",
      "Mean Absolute Error: 40870.90443206852\n"
     ]
    },
    {
     "data": {
      "text/plain": [
       "0.30650032464812815"
      ]
     },
     "execution_count": 51,
     "metadata": {},
     "output_type": "execute_result"
    }
   ],
   "source": [
    "# Pipeline\n",
    "pipeline_RFG = Pipeline([\n",
    "    ('preprocessor', categoricas_preprocessor),\n",
    "    ('regressor', RandomForestRegressor()) \n",
    "])\n",
    "\n",
    "# Fit\n",
    "pipeline_RFG.fit(X_train, y_train)\n",
    "\n",
    "# Predições\n",
    "y_pred_RFG = pipeline_RFG.predict(X_test)\n",
    "\n",
    "# Avaliação do modelo\n",
    "mse_RFG = mean_squared_error(y_test, y_pred_RFG)\n",
    "mae_RFG = mean_absolute_error(y_test,y_pred_RFG)\n",
    "r2_RFG = r2_score(y_test,y_pred_RFG)\n",
    "print('Para o modelo Random Forest Regressor:')\n",
    "print(f\"Mean Squared Error: {mse_RFG}\")\n",
    "print(f\"Mean Absolute Error: {mae_RFG}\")\n",
    "r2_RFG"
   ]
  },
  {
   "cell_type": "code",
   "execution_count": 35,
   "id": "f211df0b",
   "metadata": {},
   "outputs": [
    {
     "data": {
      "text/html": [
       "<style>#sk-container-id-2 {color: black;background-color: white;}#sk-container-id-2 pre{padding: 0;}#sk-container-id-2 div.sk-toggleable {background-color: white;}#sk-container-id-2 label.sk-toggleable__label {cursor: pointer;display: block;width: 100%;margin-bottom: 0;padding: 0.3em;box-sizing: border-box;text-align: center;}#sk-container-id-2 label.sk-toggleable__label-arrow:before {content: \"▸\";float: left;margin-right: 0.25em;color: #696969;}#sk-container-id-2 label.sk-toggleable__label-arrow:hover:before {color: black;}#sk-container-id-2 div.sk-estimator:hover label.sk-toggleable__label-arrow:before {color: black;}#sk-container-id-2 div.sk-toggleable__content {max-height: 0;max-width: 0;overflow: hidden;text-align: left;background-color: #f0f8ff;}#sk-container-id-2 div.sk-toggleable__content pre {margin: 0.2em;color: black;border-radius: 0.25em;background-color: #f0f8ff;}#sk-container-id-2 input.sk-toggleable__control:checked~div.sk-toggleable__content {max-height: 200px;max-width: 100%;overflow: auto;}#sk-container-id-2 input.sk-toggleable__control:checked~label.sk-toggleable__label-arrow:before {content: \"▾\";}#sk-container-id-2 div.sk-estimator input.sk-toggleable__control:checked~label.sk-toggleable__label {background-color: #d4ebff;}#sk-container-id-2 div.sk-label input.sk-toggleable__control:checked~label.sk-toggleable__label {background-color: #d4ebff;}#sk-container-id-2 input.sk-hidden--visually {border: 0;clip: rect(1px 1px 1px 1px);clip: rect(1px, 1px, 1px, 1px);height: 1px;margin: -1px;overflow: hidden;padding: 0;position: absolute;width: 1px;}#sk-container-id-2 div.sk-estimator {font-family: monospace;background-color: #f0f8ff;border: 1px dotted black;border-radius: 0.25em;box-sizing: border-box;margin-bottom: 0.5em;}#sk-container-id-2 div.sk-estimator:hover {background-color: #d4ebff;}#sk-container-id-2 div.sk-parallel-item::after {content: \"\";width: 100%;border-bottom: 1px solid gray;flex-grow: 1;}#sk-container-id-2 div.sk-label:hover label.sk-toggleable__label {background-color: #d4ebff;}#sk-container-id-2 div.sk-serial::before {content: \"\";position: absolute;border-left: 1px solid gray;box-sizing: border-box;top: 0;bottom: 0;left: 50%;z-index: 0;}#sk-container-id-2 div.sk-serial {display: flex;flex-direction: column;align-items: center;background-color: white;padding-right: 0.2em;padding-left: 0.2em;position: relative;}#sk-container-id-2 div.sk-item {position: relative;z-index: 1;}#sk-container-id-2 div.sk-parallel {display: flex;align-items: stretch;justify-content: center;background-color: white;position: relative;}#sk-container-id-2 div.sk-item::before, #sk-container-id-2 div.sk-parallel-item::before {content: \"\";position: absolute;border-left: 1px solid gray;box-sizing: border-box;top: 0;bottom: 0;left: 50%;z-index: -1;}#sk-container-id-2 div.sk-parallel-item {display: flex;flex-direction: column;z-index: 1;position: relative;background-color: white;}#sk-container-id-2 div.sk-parallel-item:first-child::after {align-self: flex-end;width: 50%;}#sk-container-id-2 div.sk-parallel-item:last-child::after {align-self: flex-start;width: 50%;}#sk-container-id-2 div.sk-parallel-item:only-child::after {width: 0;}#sk-container-id-2 div.sk-dashed-wrapped {border: 1px dashed gray;margin: 0 0.4em 0.5em 0.4em;box-sizing: border-box;padding-bottom: 0.4em;background-color: white;}#sk-container-id-2 div.sk-label label {font-family: monospace;font-weight: bold;display: inline-block;line-height: 1.2em;}#sk-container-id-2 div.sk-label-container {text-align: center;}#sk-container-id-2 div.sk-container {/* jupyter's `normalize.less` sets `[hidden] { display: none; }` but bootstrap.min.css set `[hidden] { display: none !important; }` so we also need the `!important` here to be able to override the default hidden behavior on the sphinx rendered scikit-learn.org. See: https://github.com/scikit-learn/scikit-learn/issues/21755 */display: inline-block !important;position: relative;}#sk-container-id-2 div.sk-text-repr-fallback {display: none;}</style><div id=\"sk-container-id-2\" class=\"sk-top-container\"><div class=\"sk-text-repr-fallback\"><pre>GridSearchCV(cv=5,\n",
       "             estimator=Pipeline(steps=[(&#x27;preprocessor&#x27;,\n",
       "                                        ColumnTransformer(transformers=[(&#x27;ordinal&#x27;,\n",
       "                                                                         OrdinalEncoder(),\n",
       "                                                                         [&#x27;experience_level&#x27;,\n",
       "                                                                          &#x27;employment_type&#x27;]),\n",
       "                                                                        (&#x27;onehot&#x27;,\n",
       "                                                                         OneHotEncoder(),\n",
       "                                                                         [&#x27;job_title&#x27;])])),\n",
       "                                       (&#x27;regressor&#x27;, RandomForestRegressor())]),\n",
       "             param_grid={&#x27;regressor__max_depth&#x27;: range(4, 9),\n",
       "                         &#x27;regressor__min_samples_leaf&#x27;: [2, 4, 8],\n",
       "                         &#x27;regressor__min_samples_split&#x27;: [5, 10, 20, 30],\n",
       "                         &#x27;regressor__n_estimators&#x27;: [50, 100, 150]},\n",
       "             scoring=&#x27;neg_mean_squared_error&#x27;)</pre><b>In a Jupyter environment, please rerun this cell to show the HTML representation or trust the notebook. <br />On GitHub, the HTML representation is unable to render, please try loading this page with nbviewer.org.</b></div><div class=\"sk-container\" hidden><div class=\"sk-item sk-dashed-wrapped\"><div class=\"sk-label-container\"><div class=\"sk-label sk-toggleable\"><input class=\"sk-toggleable__control sk-hidden--visually\" id=\"sk-estimator-id-9\" type=\"checkbox\" ><label for=\"sk-estimator-id-9\" class=\"sk-toggleable__label sk-toggleable__label-arrow\">GridSearchCV</label><div class=\"sk-toggleable__content\"><pre>GridSearchCV(cv=5,\n",
       "             estimator=Pipeline(steps=[(&#x27;preprocessor&#x27;,\n",
       "                                        ColumnTransformer(transformers=[(&#x27;ordinal&#x27;,\n",
       "                                                                         OrdinalEncoder(),\n",
       "                                                                         [&#x27;experience_level&#x27;,\n",
       "                                                                          &#x27;employment_type&#x27;]),\n",
       "                                                                        (&#x27;onehot&#x27;,\n",
       "                                                                         OneHotEncoder(),\n",
       "                                                                         [&#x27;job_title&#x27;])])),\n",
       "                                       (&#x27;regressor&#x27;, RandomForestRegressor())]),\n",
       "             param_grid={&#x27;regressor__max_depth&#x27;: range(4, 9),\n",
       "                         &#x27;regressor__min_samples_leaf&#x27;: [2, 4, 8],\n",
       "                         &#x27;regressor__min_samples_split&#x27;: [5, 10, 20, 30],\n",
       "                         &#x27;regressor__n_estimators&#x27;: [50, 100, 150]},\n",
       "             scoring=&#x27;neg_mean_squared_error&#x27;)</pre></div></div></div><div class=\"sk-parallel\"><div class=\"sk-parallel-item\"><div class=\"sk-item\"><div class=\"sk-label-container\"><div class=\"sk-label sk-toggleable\"><input class=\"sk-toggleable__control sk-hidden--visually\" id=\"sk-estimator-id-10\" type=\"checkbox\" ><label for=\"sk-estimator-id-10\" class=\"sk-toggleable__label sk-toggleable__label-arrow\">estimator: Pipeline</label><div class=\"sk-toggleable__content\"><pre>Pipeline(steps=[(&#x27;preprocessor&#x27;,\n",
       "                 ColumnTransformer(transformers=[(&#x27;ordinal&#x27;, OrdinalEncoder(),\n",
       "                                                  [&#x27;experience_level&#x27;,\n",
       "                                                   &#x27;employment_type&#x27;]),\n",
       "                                                 (&#x27;onehot&#x27;, OneHotEncoder(),\n",
       "                                                  [&#x27;job_title&#x27;])])),\n",
       "                (&#x27;regressor&#x27;, RandomForestRegressor())])</pre></div></div></div><div class=\"sk-serial\"><div class=\"sk-item\"><div class=\"sk-serial\"><div class=\"sk-item sk-dashed-wrapped\"><div class=\"sk-label-container\"><div class=\"sk-label sk-toggleable\"><input class=\"sk-toggleable__control sk-hidden--visually\" id=\"sk-estimator-id-11\" type=\"checkbox\" ><label for=\"sk-estimator-id-11\" class=\"sk-toggleable__label sk-toggleable__label-arrow\">preprocessor: ColumnTransformer</label><div class=\"sk-toggleable__content\"><pre>ColumnTransformer(transformers=[(&#x27;ordinal&#x27;, OrdinalEncoder(),\n",
       "                                 [&#x27;experience_level&#x27;, &#x27;employment_type&#x27;]),\n",
       "                                (&#x27;onehot&#x27;, OneHotEncoder(), [&#x27;job_title&#x27;])])</pre></div></div></div><div class=\"sk-parallel\"><div class=\"sk-parallel-item\"><div class=\"sk-item\"><div class=\"sk-label-container\"><div class=\"sk-label sk-toggleable\"><input class=\"sk-toggleable__control sk-hidden--visually\" id=\"sk-estimator-id-12\" type=\"checkbox\" ><label for=\"sk-estimator-id-12\" class=\"sk-toggleable__label sk-toggleable__label-arrow\">ordinal</label><div class=\"sk-toggleable__content\"><pre>[&#x27;experience_level&#x27;, &#x27;employment_type&#x27;]</pre></div></div></div><div class=\"sk-serial\"><div class=\"sk-item\"><div class=\"sk-estimator sk-toggleable\"><input class=\"sk-toggleable__control sk-hidden--visually\" id=\"sk-estimator-id-13\" type=\"checkbox\" ><label for=\"sk-estimator-id-13\" class=\"sk-toggleable__label sk-toggleable__label-arrow\">OrdinalEncoder</label><div class=\"sk-toggleable__content\"><pre>OrdinalEncoder()</pre></div></div></div></div></div></div><div class=\"sk-parallel-item\"><div class=\"sk-item\"><div class=\"sk-label-container\"><div class=\"sk-label sk-toggleable\"><input class=\"sk-toggleable__control sk-hidden--visually\" id=\"sk-estimator-id-14\" type=\"checkbox\" ><label for=\"sk-estimator-id-14\" class=\"sk-toggleable__label sk-toggleable__label-arrow\">onehot</label><div class=\"sk-toggleable__content\"><pre>[&#x27;job_title&#x27;]</pre></div></div></div><div class=\"sk-serial\"><div class=\"sk-item\"><div class=\"sk-estimator sk-toggleable\"><input class=\"sk-toggleable__control sk-hidden--visually\" id=\"sk-estimator-id-15\" type=\"checkbox\" ><label for=\"sk-estimator-id-15\" class=\"sk-toggleable__label sk-toggleable__label-arrow\">OneHotEncoder</label><div class=\"sk-toggleable__content\"><pre>OneHotEncoder()</pre></div></div></div></div></div></div></div></div><div class=\"sk-item\"><div class=\"sk-estimator sk-toggleable\"><input class=\"sk-toggleable__control sk-hidden--visually\" id=\"sk-estimator-id-16\" type=\"checkbox\" ><label for=\"sk-estimator-id-16\" class=\"sk-toggleable__label sk-toggleable__label-arrow\">RandomForestRegressor</label><div class=\"sk-toggleable__content\"><pre>RandomForestRegressor()</pre></div></div></div></div></div></div></div></div></div></div></div></div>"
      ],
      "text/plain": [
       "GridSearchCV(cv=5,\n",
       "             estimator=Pipeline(steps=[('preprocessor',\n",
       "                                        ColumnTransformer(transformers=[('ordinal',\n",
       "                                                                         OrdinalEncoder(),\n",
       "                                                                         ['experience_level',\n",
       "                                                                          'employment_type']),\n",
       "                                                                        ('onehot',\n",
       "                                                                         OneHotEncoder(),\n",
       "                                                                         ['job_title'])])),\n",
       "                                       ('regressor', RandomForestRegressor())]),\n",
       "             param_grid={'regressor__max_depth': range(4, 9),\n",
       "                         'regressor__min_samples_leaf': [2, 4, 8],\n",
       "                         'regressor__min_samples_split': [5, 10, 20, 30],\n",
       "                         'regressor__n_estimators': [50, 100, 150]},\n",
       "             scoring='neg_mean_squared_error')"
      ]
     },
     "execution_count": 35,
     "metadata": {},
     "output_type": "execute_result"
    }
   ],
   "source": [
    "#%%timeit\n",
    "#Buscando um modelo melhor com Grid Search\n",
    "parametros = {\n",
    "    'regressor__n_estimators': [50, 100, 150],  # Number of trees in the forest\n",
    "    'regressor__max_depth': range(4,9),  # Maximum depth of the trees\n",
    "    'regressor__min_samples_split': [5, 10, 20, 30],  # Minimum number of samples required to split an internal node\n",
    "    'regressor__min_samples_leaf': [2, 4, 8]  # Minimum number of samples required to be at a leaf node\n",
    "}\n",
    "\n",
    "pipeline_RFG = Pipeline([\n",
    "    ('preprocessor', categoricas_preprocessor),\n",
    "    ('regressor', RandomForestRegressor()) \n",
    "])\n",
    "\n",
    "gs= GridSearchCV(estimator=pipeline_RFG, param_grid=parametros, scoring='neg_mean_squared_error', cv=5)\n",
    "gs.fit(X_train, y_train)"
   ]
  },
  {
   "cell_type": "code",
   "execution_count": 56,
   "id": "4aa0edc8",
   "metadata": {},
   "outputs": [
    {
     "name": "stdout",
     "output_type": "stream",
     "text": [
      "Best Model MSE: 2821883963.0435495\n",
      "Best Model MAE: 41327.94603664598\n"
     ]
    },
    {
     "data": {
      "text/plain": [
       "0.30448228859181203"
      ]
     },
     "execution_count": 56,
     "metadata": {},
     "output_type": "execute_result"
    }
   ],
   "source": [
    "#Linhas abaixo comentadas, pois apenas servem após rodar o grid search, após isso o modelo\n",
    "#é salvo, sem necessidade de ser executado novamente.\n",
    "#best_model_grid_search_model = gs.best_estimator_\n",
    "#best_grid_search_params = gs.best_params_\n",
    "\n",
    "filename = 'finalized_grid_search_model.sav'\n",
    "#pickle.dump(best_model_grid_search_model, open(filename, 'wb'))\n",
    "\n",
    "best_model_grid_search_model = pickle.load(open(filename, 'rb'))\n",
    "\n",
    "y_pred_gs = best_model_grid_search_model.predict(X_test)\n",
    "mse_gs = mean_squared_error(y_test, y_pred_gs)\n",
    "mae_gs = mean_absolute_error(y_test,y_pred_gs)\n",
    "r2_gs = r2_score(y_test,y_pred_gs)\n",
    "#print(\"Best Parameters:\", best_grid_search_params)\n",
    "print(\"Grid found Model MSE:\", mse_gs)\n",
    "print(\"Grid found MAE:\", mae_gs)\n",
    "r2_gs\n",
    "\n",
    "\n",
    "#Best Parameters: {'regressor__max_depth': 7, 'regressor__min_samples_leaf': 2, 'regressor__min_samples_split': 5, 'regressor__n_estimators': 50}"
   ]
  },
  {
   "cell_type": "markdown",
   "id": "113dc371",
   "metadata": {},
   "source": [
    "## Conclusão\n",
    "Vimos que mesmo após uma busca exaustiva com grid search visando otimizar os parâmetros de nosso modelo ainda não fomos capaz de obter métricas de erro melhores que o RandomForestRegressor setado com seus parâmetros default.\n",
    "Se avalaidos por MSE ou MAE o ranking seria:\n",
    "\n",
    "1°: RandomForestRegressor()\n",
    "\n",
    "2°: RFG obtido por grid search\n",
    "\n",
    "3°: Regressão Linear\n",
    "\n",
    "4°: Lasso\n",
    "\n",
    "5°: Ridge\n",
    "\n",
    "Em nosso melhor modelo, o MAE corresponde a cerca de 29.63% do valor médio presente na nossa coluna alvo, e a raíz do MSE cerca de 38.49% desse valor.\n",
    "Acredito que um modelo de predição melhor poderia ser gerado de algumas formas:\n",
    "- Fazendo uso da coluna de países onde as empresas estão localizadas, a qual foi descartada devido a codificação de seus valores em One-Hot Encoding aumentar consideravelmente o número de colunas no modelo.\n",
    "- Aumentando o intervalo de busca de parâmetros na Grid Search, se faria necessário uma máquina mais potente e mais tempo a dispor, o modelo apresentado nesse trabalho levou cerca de 30 minutos para se concluir a busca.\n",
    "- Utilizar de outros métodos de regressão, como por exemplo KN Regressor ou XGBoost Regressor.\n",
    "- Passar os dados numéricos por um Scaler.\n",
    "\n",
    "\n",
    "\n",
    "\n",
    "\n",
    "\n",
    "\n"
   ]
  },
  {
   "cell_type": "code",
   "execution_count": null,
   "id": "22f8a36f",
   "metadata": {},
   "outputs": [],
   "source": []
  }
 ],
 "metadata": {
  "kernelspec": {
   "display_name": "Python 3 (ipykernel)",
   "language": "python",
   "name": "python3"
  },
  "language_info": {
   "codemirror_mode": {
    "name": "ipython",
    "version": 3
   },
   "file_extension": ".py",
   "mimetype": "text/x-python",
   "name": "python",
   "nbconvert_exporter": "python",
   "pygments_lexer": "ipython3",
   "version": "3.9.7"
  }
 },
 "nbformat": 4,
 "nbformat_minor": 5
}
